{
 "cells": [
  {
   "cell_type": "code",
   "execution_count": 2,
   "metadata": {},
   "outputs": [
    {
     "name": "stdout",
     "output_type": "stream",
     "text": [
      "Welcome to python!!\n"
     ]
    }
   ],
   "source": [
    "#print \n",
    "print(\"Welcome to python!!\")"
   ]
  },
  {
   "cell_type": "code",
   "execution_count": 5,
   "metadata": {},
   "outputs": [
    {
     "name": "stdout",
     "output_type": "stream",
     "text": [
      "'Python!!'\n",
      "\"Python!!\"\n"
     ]
    }
   ],
   "source": [
    "print(\"'Python!!'\")\n",
    "print('\"Python!!\"')"
   ]
  },
  {
   "cell_type": "code",
   "execution_count": 7,
   "metadata": {},
   "outputs": [
    {
     "name": "stdout",
     "output_type": "stream",
     "text": [
      "It's cost of book is 564\n"
     ]
    }
   ],
   "source": [
    "#variable \n",
    "number= 564\n",
    "print(\"It's cost of book is\",number)"
   ]
  },
  {
   "cell_type": "code",
   "execution_count": 8,
   "metadata": {},
   "outputs": [
    {
     "name": "stdout",
     "output_type": "stream",
     "text": [
      "Movie name is Ouija \n",
      "It's release on 2016\n",
      "Director is  Mike Flanagan\n",
      "It's started on USA\n"
     ]
    }
   ],
   "source": [
    "name = \"Ouija \"\n",
    "release = 2016\n",
    "director = \"Mike Flanagan\"\n",
    "country = \"USA\"\n",
    "print(\"Movie name is\",name)\n",
    "print(\"It's release on\",release)\n",
    "print(\"Director is \",director)\n",
    "print(\"It's started on\",country)"
   ]
  },
  {
   "cell_type": "code",
   "execution_count": null,
   "metadata": {},
   "outputs": [
    {
     "name": "stdout",
     "output_type": "stream",
     "text": [
      "My name is aashil\n",
      "My age is 22\n",
      "My height is 6\n"
     ]
    }
   ],
   "source": [
    "#input \n",
    "name = input(\"Enter your Name\")\n",
    "age = input(\"Enter Your Age\")\n",
    "height = input(\"Enter Your \")\n",
    "\n",
    "print(\"My name is\",name)\n",
    "print(\"My age is\",age)\n",
    "print(\"My height is\",height)"
   ]
  },
  {
   "cell_type": "code",
   "execution_count": 12,
   "metadata": {},
   "outputs": [
    {
     "name": "stdout",
     "output_type": "stream",
     "text": [
      "My name is aashil\n",
      "My age is 22\n",
      "My height is 6.0\n"
     ]
    }
   ],
   "source": [
    "# int()\n",
    "# float()\n",
    "# str()\n",
    "\n",
    "name = str(input(\"Enter Your Name\"))\n",
    "age = int(input(\"Enter Your Age\"))\n",
    "height = float(input(\"Enter Your height\"))\n",
    "\n",
    "print(\"My name is\",name)\n",
    "print(\"My age is\",age)\n",
    "print(\"My height is\",height)"
   ]
  }
 ],
 "metadata": {
  "kernelspec": {
   "display_name": "Python 3",
   "language": "python",
   "name": "python3"
  },
  "language_info": {
   "codemirror_mode": {
    "name": "ipython",
    "version": 3
   },
   "file_extension": ".py",
   "mimetype": "text/x-python",
   "name": "python",
   "nbconvert_exporter": "python",
   "pygments_lexer": "ipython3",
   "version": "3.9.6"
  }
 },
 "nbformat": 4,
 "nbformat_minor": 2
}
