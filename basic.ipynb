{
 "cells": [
  {
   "cell_type": "code",
   "execution_count": null,
   "metadata": {},
   "outputs": [],
   "source": [
    "print(\"welcome to codeswithpankaj\")\n",
    "print(9786756)\n",
    "print(\"my number is = \",77867)"
   ]
  },
  {
   "cell_type": "code",
   "execution_count": null,
   "metadata": {},
   "outputs": [],
   "source": [
    "name = \"joy\"\n",
    "print(\"My name is \",name)"
   ]
  },
  {
   "cell_type": "code",
   "execution_count": null,
   "metadata": {},
   "outputs": [],
   "source": [
    "name = \"joy\"\n",
    "age = 23\n",
    "height = 4.5\n",
    "\n",
    "print(\"my name is \",name)\n",
    "print(\"My Age is \",age)\n",
    "print(\"My Height is : \",height)"
   ]
  },
  {
   "cell_type": "code",
   "execution_count": null,
   "metadata": {},
   "outputs": [],
   "source": [
    "number1 = 900\n",
    "number2 = 678\n",
    "\n",
    "result = number1 + number2\n",
    "print(result)\n"
   ]
  },
  {
   "cell_type": "code",
   "execution_count": null,
   "metadata": {},
   "outputs": [],
   "source": [
    "print(\"hello world\")\n",
    "number1=2\n",
    "answer = number1 + number1\n",
    "print(\"2 + 2 =\",answer)"
   ]
  },
  {
   "cell_type": "code",
   "execution_count": 5,
   "metadata": {},
   "outputs": [
    {
     "name": "stdout",
     "output_type": "stream",
     "text": [
      "My name is Aashil\n",
      "My age is 22\n",
      "My college name is RGIT\n",
      "200 - 387 = -187\n",
      "387 * 100 = 38700\n",
      "539 + 539 = 1078\n",
      "100 / 200 = 0.5\n"
     ]
    }
   ],
   "source": [
    "name = \"Aashil\" \n",
    "age = \"22\"\n",
    "college = \"RGIT\" \n",
    "number1 = 200\n",
    "number2 = 539\n",
    "number3 = 387\n",
    "number4 = 100\n",
    "\n",
    "result1 = number1 - number3\n",
    "result2 = number3 * number4\n",
    "result3 = number2 + number2\n",
    "result4 = number4 / number1\n",
    "\n",
    "print(\"My name is\",name)\n",
    "print(\"My age is\",age)\n",
    "print(\"My college name is\",college)\n",
    "print(\"200 - 387 =\",result1)\n",
    "print(\"387 * 100 =\",result2)\n",
    "print(\"539 + 539 =\",result3)\n",
    "print(\"100 / 200 =\",result4)\n"
   ]
  },
  {
   "cell_type": "code",
   "execution_count": 33,
   "metadata": {},
   "outputs": [],
   "source": [
    "                                                #data types"
   ]
  },
  {
   "cell_type": "code",
   "execution_count": 39,
   "metadata": {},
   "outputs": [
    {
     "name": "stdout",
     "output_type": "stream",
     "text": [
      "<class 'float'>\n",
      "<class 'int'>\n",
      "<class 'list'>\n",
      "<class 'complex'>\n",
      "<class 'str'>\n",
      "<class 'bool'>\n",
      "<class 'bool'>\n",
      "<class 'tuple'>\n",
      "<class 'set'>\n",
      "<class 'dict'>\n"
     ]
    }
   ],
   "source": [
    "price = 10.9\n",
    "print(type(price))\n",
    "\n",
    "\n",
    "age = 20\n",
    "print(type(age))\n",
    "\n",
    "brand = [\"apple\" , \"samsaung\" , \"olg\" , \"lenova\"]\n",
    "print(type(brand))\n",
    "\n",
    "num = 1 - 7j\n",
    "print(type(num))\n",
    "\n",
    "name = \"Aashil\"\n",
    "print (type(name)) \n",
    "\n",
    "vaild = True\n",
    "print(type(vaild))\n",
    " \n",
    "not_valid = False \n",
    "print(type((not_valid)))\n",
    "\n",
    "number = (60 , 30 ,50)\n",
    "print(type(number))\n",
    "\n",
    "number1 = {30, 25 , 39 , 78}\n",
    "print(type(number1)) \n",
    "\n",
    "user = {\"name\": \"Aashil\", \"age\": 22}\n",
    "print(type(user))\n",
    "\n"
   ]
  }
 ],
 "metadata": {
  "kernelspec": {
   "display_name": "Python 3",
   "language": "python",
   "name": "python3"
  },
  "language_info": {
   "codemirror_mode": {
    "name": "ipython",
    "version": 3
   },
   "file_extension": ".py",
   "mimetype": "text/x-python",
   "name": "python",
   "nbconvert_exporter": "python",
   "pygments_lexer": "ipython3",
   "version": "3.9.6"
  }
 },
 "nbformat": 4,
 "nbformat_minor": 2
}
